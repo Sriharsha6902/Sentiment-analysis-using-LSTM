{
 "cells": [
  {
   "cell_type": "code",
   "execution_count": 2,
   "id": "79a7e6cf",
   "metadata": {},
   "outputs": [],
   "source": [
    "import re\n",
    "import matplotlib.pyplot as plt\n",
    "import string\n",
    "from nltk.corpus import stopwords\n",
    "import nltk\n",
    "from nltk.corpus import wordnet\n",
    "from nltk.stem import WordNetLemmatizer\n",
    "from nltk.tokenize.treebank import TreebankWordDetokenizer\n",
    "from collections import Counter\n",
    "from nltk.corpus import stopwords\n",
    "import nltk\n",
    "from gensim.utils import simple_preprocess\n",
    "from nltk.corpus import stopwords\n",
    "import gensim\n",
    "from sklearn.model_selection import train_test_split\n",
    "import spacy\n",
    "import pickle\n",
    "import warnings\n",
    "warnings.filterwarnings('ignore')\n",
    "import seaborn as sns\n",
    "from sklearn.metrics import confusion_matrix\n",
    "import matplotlib.pyplot as plt \n",
    "import tensorflow as tf\n",
    "import keras\n",
    "import numpy as np\n",
    "import pandas as pd"
   ]
  },
  {
   "cell_type": "code",
   "execution_count": 4,
   "id": "da9d53ce",
   "metadata": {},
   "outputs": [],
   "source": [
    "train = pd.read_csv('./data/train.csv')"
   ]
  },
  {
   "cell_type": "code",
   "execution_count": 3,
   "id": "1e7b2950",
   "metadata": {},
   "outputs": [
    {
     "data": {
      "text/html": [
       "<div>\n",
       "<style scoped>\n",
       "    .dataframe tbody tr th:only-of-type {\n",
       "        vertical-align: middle;\n",
       "    }\n",
       "\n",
       "    .dataframe tbody tr th {\n",
       "        vertical-align: top;\n",
       "    }\n",
       "\n",
       "    .dataframe thead th {\n",
       "        text-align: right;\n",
       "    }\n",
       "</style>\n",
       "<table border=\"1\" class=\"dataframe\">\n",
       "  <thead>\n",
       "    <tr style=\"text-align: right;\">\n",
       "      <th></th>\n",
       "      <th>selected_text</th>\n",
       "      <th>sentiment</th>\n",
       "    </tr>\n",
       "  </thead>\n",
       "  <tbody>\n",
       "    <tr>\n",
       "      <th>0</th>\n",
       "      <td>I`d have responded, if I were going</td>\n",
       "      <td>neutral</td>\n",
       "    </tr>\n",
       "    <tr>\n",
       "      <th>1</th>\n",
       "      <td>Sooo SAD</td>\n",
       "      <td>negative</td>\n",
       "    </tr>\n",
       "    <tr>\n",
       "      <th>2</th>\n",
       "      <td>bullying me</td>\n",
       "      <td>negative</td>\n",
       "    </tr>\n",
       "    <tr>\n",
       "      <th>3</th>\n",
       "      <td>leave me alone</td>\n",
       "      <td>negative</td>\n",
       "    </tr>\n",
       "    <tr>\n",
       "      <th>4</th>\n",
       "      <td>Sons of ****,</td>\n",
       "      <td>negative</td>\n",
       "    </tr>\n",
       "  </tbody>\n",
       "</table>\n",
       "</div>"
      ],
      "text/plain": [
       "                         selected_text sentiment\n",
       "0  I`d have responded, if I were going   neutral\n",
       "1                             Sooo SAD  negative\n",
       "2                          bullying me  negative\n",
       "3                       leave me alone  negative\n",
       "4                        Sons of ****,  negative"
      ]
     },
     "execution_count": 3,
     "metadata": {},
     "output_type": "execute_result"
    }
   ],
   "source": [
    "train = train[['selected_text','sentiment']]\n",
    "train.head()"
   ]
  },
  {
   "cell_type": "code",
   "execution_count": 4,
   "id": "2644eac0",
   "metadata": {},
   "outputs": [],
   "source": [
    "train[\"selected_text\"].fillna(\"No content\", inplace = True)"
   ]
  },
  {
   "cell_type": "code",
   "execution_count": 5,
   "id": "03a1eda2",
   "metadata": {},
   "outputs": [],
   "source": [
    "def depure_data(data):\n",
    "    \n",
    "    #Removing URLs with a regular expression\n",
    "    url_pattern = re.compile(r'https?://\\S+|www\\.\\S+')\n",
    "    data = url_pattern.sub(r'', data)\n",
    "\n",
    "    # Remove Emails\n",
    "    data = re.sub('\\S*@\\S*\\s?', '', data)\n",
    "\n",
    "    # Remove new line characters\n",
    "    data = re.sub('\\s+', ' ', data)\n",
    "\n",
    "    # Remove distracting single quotes\n",
    "    data = re.sub(\"\\'\", \"\", data)\n",
    "        \n",
    "    return data"
   ]
  },
  {
   "cell_type": "code",
   "execution_count": 6,
   "id": "2003a99c",
   "metadata": {},
   "outputs": [],
   "source": [
    "temp = []\n",
    "#Splitting pd.Series to list\n",
    "data_to_list = train['selected_text'].values.tolist()\n",
    "for i in range(len(data_to_list)):\n",
    "    temp.append(depure_data(data_to_list[i]))"
   ]
  },
  {
   "cell_type": "code",
   "execution_count": 7,
   "id": "99860a3e",
   "metadata": {},
   "outputs": [],
   "source": [
    "def sent_to_words(sentences):\n",
    "    for sentence in sentences:\n",
    "        yield(gensim.utils.simple_preprocess(str(sentence), deacc=True))  # deacc=True removes punctuations\n",
    "        \n",
    "\n",
    "data_words = list(sent_to_words(temp))"
   ]
  },
  {
   "cell_type": "code",
   "execution_count": 8,
   "id": "f9bb2380",
   "metadata": {},
   "outputs": [],
   "source": [
    "def detokenize(text):\n",
    "    return TreebankWordDetokenizer().detokenize(text)"
   ]
  },
  {
   "cell_type": "code",
   "execution_count": 9,
   "id": "d0568a45",
   "metadata": {},
   "outputs": [],
   "source": [
    "data = []\n",
    "for i in range(len(data_words)):\n",
    "    data.append(detokenize(data_words[i]))"
   ]
  },
  {
   "cell_type": "code",
   "execution_count": 10,
   "id": "30ef84f9",
   "metadata": {},
   "outputs": [],
   "source": [
    "data = np.array(data)"
   ]
  },
  {
   "cell_type": "code",
   "execution_count": 11,
   "id": "40b200f0",
   "metadata": {},
   "outputs": [],
   "source": [
    "labels = np.array(train['sentiment'])\n",
    "y = []\n",
    "for i in range(len(labels)):\n",
    "    if labels[i] == 'neutral':\n",
    "        y.append(0)\n",
    "    if labels[i] == 'negative':\n",
    "        y.append(1)\n",
    "    if labels[i] == 'positive':\n",
    "        y.append(2)\n",
    "y = np.array(y)\n",
    "labels = tf.keras.utils.to_categorical(y, 3, dtype=\"float32\")\n",
    "del y"
   ]
  },
  {
   "cell_type": "code",
   "execution_count": 12,
   "id": "7cf752b4",
   "metadata": {},
   "outputs": [
    {
     "data": {
      "text/plain": [
       "27481"
      ]
     },
     "execution_count": 12,
     "metadata": {},
     "output_type": "execute_result"
    }
   ],
   "source": [
    "len(labels)"
   ]
  },
  {
   "cell_type": "code",
   "execution_count": 13,
   "id": "cd4b31d6",
   "metadata": {},
   "outputs": [
    {
     "name": "stdout",
     "output_type": "stream",
     "text": [
      "[[   0    0    0 ...   68  146   41]\n",
      " [   0    0    0 ...    0  397   65]\n",
      " [   0    0    0 ...    0    0   11]\n",
      " ...\n",
      " [   0    0    0 ...  372   10    3]\n",
      " [   0    0    0 ...   24  542    4]\n",
      " [   0    0    0 ... 2424  199  657]]\n"
     ]
    }
   ],
   "source": [
    "from keras.models import Sequential\n",
    "from keras import layers\n",
    "from tensorflow.keras.optimizers import RMSprop,Adam\n",
    "from keras_preprocessing.text import Tokenizer\n",
    "from keras_preprocessing.sequence import pad_sequences\n",
    "from keras import regularizers\n",
    "from keras import backend as K\n",
    "from keras.callbacks import ModelCheckpoint\n",
    "max_words = 5000\n",
    "max_len = 200\n",
    "\n",
    "tokenizer = Tokenizer(num_words=max_words)\n",
    "tokenizer.fit_on_texts(data)\n",
    "sequences = tokenizer.texts_to_sequences(data)\n",
    "tweets = pad_sequences(sequences, maxlen=max_len)\n",
    "print(tweets)"
   ]
  },
  {
   "cell_type": "code",
   "execution_count": 14,
   "id": "19da6309",
   "metadata": {},
   "outputs": [
    {
     "name": "stdout",
     "output_type": "stream",
     "text": [
      "20610 6871 20610 6871\n"
     ]
    }
   ],
   "source": [
    "X_train, X_test, y_train, y_test = train_test_split(tweets,labels, random_state=0)\n",
    "print (len(X_train),len(X_test),len(y_train),len(y_test))"
   ]
  },
  {
   "cell_type": "code",
   "execution_count": 17,
   "id": "c05585cd",
   "metadata": {},
   "outputs": [
    {
     "name": "stdout",
     "output_type": "stream",
     "text": [
      "Model: \"sequential_1\"\n",
      "_________________________________________________________________\n",
      "Layer (type)                 Output Shape              Param #   \n",
      "=================================================================\n",
      "embedding_1 (Embedding)      (None, 200, 40)           200000    \n",
      "_________________________________________________________________\n",
      "bidirectional_1 (Bidirection (None, 40)                9760      \n",
      "_________________________________________________________________\n",
      "dense_1 (Dense)              (None, 3)                 123       \n",
      "=================================================================\n",
      "Total params: 209,883\n",
      "Trainable params: 209,883\n",
      "Non-trainable params: 0\n",
      "_________________________________________________________________\n",
      "WARNING:tensorflow:`period` argument is deprecated. Please use `save_freq` to specify the frequency in number of batches seen.\n",
      "Epoch 1/70\n",
      "645/645 [==============================] - 26s 36ms/step - loss: 0.7930 - accuracy: 0.6512 - val_loss: 0.7187 - val_accuracy: 0.6859\n",
      "\n",
      "Epoch 00001: val_accuracy improved from -inf to 0.68593, saving model to best_model2.hdf5\n",
      "Epoch 2/70\n",
      "645/645 [==============================] - 22s 35ms/step - loss: 0.5734 - accuracy: 0.7718 - val_loss: 0.5405 - val_accuracy: 0.7865\n",
      "\n",
      "Epoch 00002: val_accuracy improved from 0.68593 to 0.78649, saving model to best_model2.hdf5\n",
      "Epoch 3/70\n",
      "645/645 [==============================] - 22s 34ms/step - loss: 0.5007 - accuracy: 0.8054 - val_loss: 0.5030 - val_accuracy: 0.8096\n",
      "\n",
      "Epoch 00003: val_accuracy improved from 0.78649 to 0.80963, saving model to best_model2.hdf5\n",
      "Epoch 4/70\n",
      "645/645 [==============================] - 22s 34ms/step - loss: 0.4685 - accuracy: 0.8199 - val_loss: 0.4809 - val_accuracy: 0.8147\n",
      "\n",
      "Epoch 00004: val_accuracy improved from 0.80963 to 0.81473, saving model to best_model2.hdf5\n",
      "Epoch 5/70\n",
      "645/645 [==============================] - 22s 34ms/step - loss: 0.4486 - accuracy: 0.8297 - val_loss: 0.4774 - val_accuracy: 0.8141\n",
      "\n",
      "Epoch 00005: val_accuracy did not improve from 0.81473\n",
      "Epoch 6/70\n",
      "645/645 [==============================] - 22s 34ms/step - loss: 0.4343 - accuracy: 0.8361 - val_loss: 0.4600 - val_accuracy: 0.8208\n",
      "\n",
      "Epoch 00006: val_accuracy improved from 0.81473 to 0.82084, saving model to best_model2.hdf5\n",
      "Epoch 7/70\n",
      "645/645 [==============================] - 22s 35ms/step - loss: 0.4238 - accuracy: 0.8393 - val_loss: 0.4654 - val_accuracy: 0.8137\n",
      "\n",
      "Epoch 00007: val_accuracy did not improve from 0.82084\n",
      "Epoch 8/70\n",
      "645/645 [==============================] - 22s 34ms/step - loss: 0.4140 - accuracy: 0.8458 - val_loss: 0.4521 - val_accuracy: 0.8264\n",
      "\n",
      "Epoch 00008: val_accuracy improved from 0.82084 to 0.82637, saving model to best_model2.hdf5\n",
      "Epoch 9/70\n",
      "645/645 [==============================] - 26s 40ms/step - loss: 0.4033 - accuracy: 0.8491 - val_loss: 0.4459 - val_accuracy: 0.8256\n",
      "\n",
      "Epoch 00009: val_accuracy did not improve from 0.82637\n",
      "Epoch 10/70\n",
      "645/645 [==============================] - 24s 37ms/step - loss: 0.3995 - accuracy: 0.8494 - val_loss: 0.4471 - val_accuracy: 0.8280\n",
      "\n",
      "Epoch 00010: val_accuracy improved from 0.82637 to 0.82797, saving model to best_model2.hdf5\n",
      "Epoch 11/70\n",
      "645/645 [==============================] - 23s 36ms/step - loss: 0.3927 - accuracy: 0.8530 - val_loss: 0.4491 - val_accuracy: 0.8265\n",
      "\n",
      "Epoch 00011: val_accuracy did not improve from 0.82797\n",
      "Epoch 12/70\n",
      "645/645 [==============================] - 23s 35ms/step - loss: 0.3858 - accuracy: 0.8550 - val_loss: 0.4381 - val_accuracy: 0.8326\n",
      "\n",
      "Epoch 00012: val_accuracy improved from 0.82797 to 0.83263, saving model to best_model2.hdf5\n",
      "Epoch 13/70\n",
      "645/645 [==============================] - 23s 36ms/step - loss: 0.3803 - accuracy: 0.8584 - val_loss: 0.4413 - val_accuracy: 0.8316\n",
      "\n",
      "Epoch 00013: val_accuracy did not improve from 0.83263\n",
      "Epoch 14/70\n",
      "645/645 [==============================] - 23s 36ms/step - loss: 0.3777 - accuracy: 0.8579 - val_loss: 0.4433 - val_accuracy: 0.8293\n",
      "\n",
      "Epoch 00014: val_accuracy did not improve from 0.83263\n",
      "Epoch 15/70\n",
      "645/645 [==============================] - 23s 35ms/step - loss: 0.3679 - accuracy: 0.8620 - val_loss: 0.4356 - val_accuracy: 0.8322\n",
      "\n",
      "Epoch 00015: val_accuracy did not improve from 0.83263\n",
      "Epoch 16/70\n",
      "645/645 [==============================] - 23s 36ms/step - loss: 0.3656 - accuracy: 0.8629 - val_loss: 0.4338 - val_accuracy: 0.8345\n",
      "\n",
      "Epoch 00016: val_accuracy improved from 0.83263 to 0.83452, saving model to best_model2.hdf5\n",
      "Epoch 17/70\n",
      "645/645 [==============================] - 23s 36ms/step - loss: 0.3645 - accuracy: 0.8632 - val_loss: 0.4429 - val_accuracy: 0.8335\n",
      "\n",
      "Epoch 00017: val_accuracy did not improve from 0.83452\n",
      "Epoch 18/70\n",
      "645/645 [==============================] - 23s 36ms/step - loss: 0.3603 - accuracy: 0.8672 - val_loss: 0.4314 - val_accuracy: 0.8341\n",
      "\n",
      "Epoch 00018: val_accuracy did not improve from 0.83452\n",
      "Epoch 19/70\n",
      "645/645 [==============================] - 23s 36ms/step - loss: 0.3553 - accuracy: 0.8685 - val_loss: 0.4301 - val_accuracy: 0.8373\n",
      "\n",
      "Epoch 00019: val_accuracy improved from 0.83452 to 0.83729, saving model to best_model2.hdf5\n",
      "Epoch 20/70\n",
      "645/645 [==============================] - 23s 36ms/step - loss: 0.3554 - accuracy: 0.8676 - val_loss: 0.4281 - val_accuracy: 0.8382\n",
      "\n",
      "Epoch 00020: val_accuracy improved from 0.83729 to 0.83816, saving model to best_model2.hdf5\n",
      "Epoch 21/70\n",
      "645/645 [==============================] - 22s 34ms/step - loss: 0.3532 - accuracy: 0.8675 - val_loss: 0.4319 - val_accuracy: 0.8374\n",
      "\n",
      "Epoch 00021: val_accuracy did not improve from 0.83816\n",
      "Epoch 22/70\n",
      "645/645 [==============================] - 22s 34ms/step - loss: 0.3502 - accuracy: 0.8697 - val_loss: 0.4293 - val_accuracy: 0.8357\n",
      "\n",
      "Epoch 00022: val_accuracy did not improve from 0.83816\n",
      "Epoch 23/70\n",
      "645/645 [==============================] - 22s 34ms/step - loss: 0.3509 - accuracy: 0.8682 - val_loss: 0.4350 - val_accuracy: 0.8364\n",
      "\n",
      "Epoch 00023: val_accuracy did not improve from 0.83816\n",
      "Epoch 24/70\n",
      "645/645 [==============================] - 22s 34ms/step - loss: 0.3437 - accuracy: 0.8732 - val_loss: 0.4222 - val_accuracy: 0.8402\n",
      "\n",
      "Epoch 00024: val_accuracy improved from 0.83816 to 0.84020, saving model to best_model2.hdf5\n",
      "Epoch 25/70\n",
      "645/645 [==============================] - 22s 34ms/step - loss: 0.3444 - accuracy: 0.8732 - val_loss: 0.4260 - val_accuracy: 0.8417\n",
      "\n",
      "Epoch 00025: val_accuracy improved from 0.84020 to 0.84165, saving model to best_model2.hdf5\n",
      "Epoch 26/70\n",
      "645/645 [==============================] - 22s 34ms/step - loss: 0.3405 - accuracy: 0.8753 - val_loss: 0.4275 - val_accuracy: 0.8408\n",
      "\n",
      "Epoch 00026: val_accuracy did not improve from 0.84165\n",
      "Epoch 27/70\n",
      "645/645 [==============================] - 22s 34ms/step - loss: 0.3409 - accuracy: 0.8731 - val_loss: 0.4311 - val_accuracy: 0.8389\n",
      "\n",
      "Epoch 00027: val_accuracy did not improve from 0.84165\n",
      "Epoch 28/70\n",
      "645/645 [==============================] - 23s 36ms/step - loss: 0.3368 - accuracy: 0.8758 - val_loss: 0.4293 - val_accuracy: 0.8412\n",
      "\n",
      "Epoch 00028: val_accuracy did not improve from 0.84165\n",
      "Epoch 29/70\n",
      "645/645 [==============================] - 23s 36ms/step - loss: 0.3353 - accuracy: 0.8767 - val_loss: 0.4296 - val_accuracy: 0.8421\n",
      "\n",
      "Epoch 00029: val_accuracy improved from 0.84165 to 0.84209, saving model to best_model2.hdf5\n",
      "Epoch 30/70\n",
      "645/645 [==============================] - 23s 36ms/step - loss: 0.3314 - accuracy: 0.8770 - val_loss: 0.4245 - val_accuracy: 0.8418\n",
      "\n",
      "Epoch 00030: val_accuracy did not improve from 0.84209\n",
      "Epoch 31/70\n",
      "645/645 [==============================] - 23s 36ms/step - loss: 0.3303 - accuracy: 0.8791 - val_loss: 0.4253 - val_accuracy: 0.8443\n",
      "\n",
      "Epoch 00031: val_accuracy improved from 0.84209 to 0.84427, saving model to best_model2.hdf5\n",
      "Epoch 32/70\n",
      "645/645 [==============================] - 23s 36ms/step - loss: 0.3311 - accuracy: 0.8765 - val_loss: 0.4290 - val_accuracy: 0.8399\n",
      "\n",
      "Epoch 00032: val_accuracy did not improve from 0.84427\n",
      "Epoch 33/70\n",
      "645/645 [==============================] - 23s 36ms/step - loss: 0.3271 - accuracy: 0.8804 - val_loss: 0.4265 - val_accuracy: 0.8451\n",
      "\n",
      "Epoch 00033: val_accuracy improved from 0.84427 to 0.84515, saving model to best_model2.hdf5\n",
      "Epoch 34/70\n",
      "645/645 [==============================] - 22s 35ms/step - loss: 0.3251 - accuracy: 0.8831 - val_loss: 0.4316 - val_accuracy: 0.8440\n",
      "\n",
      "Epoch 00034: val_accuracy did not improve from 0.84515\n",
      "Epoch 35/70\n",
      "645/645 [==============================] - 22s 33ms/step - loss: 0.3262 - accuracy: 0.8816 - val_loss: 0.4256 - val_accuracy: 0.8478\n",
      "\n",
      "Epoch 00035: val_accuracy improved from 0.84515 to 0.84777, saving model to best_model2.hdf5\n",
      "Epoch 36/70\n",
      "645/645 [==============================] - 22s 33ms/step - loss: 0.3254 - accuracy: 0.8800 - val_loss: 0.4324 - val_accuracy: 0.8435\n",
      "\n",
      "Epoch 00036: val_accuracy did not improve from 0.84777\n",
      "Epoch 37/70\n",
      "645/645 [==============================] - 21s 33ms/step - loss: 0.3204 - accuracy: 0.8825 - val_loss: 0.4268 - val_accuracy: 0.8437\n",
      "\n",
      "Epoch 00037: val_accuracy did not improve from 0.84777\n",
      "Epoch 38/70\n",
      "645/645 [==============================] - 22s 33ms/step - loss: 0.3216 - accuracy: 0.8814 - val_loss: 0.4266 - val_accuracy: 0.8447\n",
      "\n",
      "Epoch 00038: val_accuracy did not improve from 0.84777\n",
      "Epoch 39/70\n",
      "645/645 [==============================] - 22s 33ms/step - loss: 0.3184 - accuracy: 0.8823 - val_loss: 0.4311 - val_accuracy: 0.8408\n",
      "\n",
      "Epoch 00039: val_accuracy did not improve from 0.84777\n",
      "Epoch 40/70\n",
      "645/645 [==============================] - 22s 33ms/step - loss: 0.3165 - accuracy: 0.8825 - val_loss: 0.4300 - val_accuracy: 0.8421\n",
      "\n",
      "Epoch 00040: val_accuracy did not improve from 0.84777\n",
      "Epoch 41/70\n",
      "645/645 [==============================] - 22s 34ms/step - loss: 0.3178 - accuracy: 0.8836 - val_loss: 0.4317 - val_accuracy: 0.8412\n",
      "\n",
      "Epoch 00041: val_accuracy did not improve from 0.84777\n",
      "Epoch 42/70\n",
      "645/645 [==============================] - 22s 33ms/step - loss: 0.3121 - accuracy: 0.8861 - val_loss: 0.4323 - val_accuracy: 0.8438\n",
      "\n",
      "Epoch 00042: val_accuracy did not improve from 0.84777\n",
      "Epoch 43/70\n",
      "645/645 [==============================] - 22s 33ms/step - loss: 0.3139 - accuracy: 0.8851 - val_loss: 0.4300 - val_accuracy: 0.8446\n",
      "\n",
      "Epoch 00043: val_accuracy did not improve from 0.84777\n",
      "Epoch 44/70\n",
      "645/645 [==============================] - 22s 34ms/step - loss: 0.3094 - accuracy: 0.8863 - val_loss: 0.4311 - val_accuracy: 0.8454\n",
      "\n",
      "Epoch 00044: val_accuracy did not improve from 0.84777\n",
      "Epoch 45/70\n",
      "645/645 [==============================] - 21s 33ms/step - loss: 0.3096 - accuracy: 0.8855 - val_loss: 0.4313 - val_accuracy: 0.8415\n",
      "\n",
      "Epoch 00045: val_accuracy did not improve from 0.84777\n",
      "Epoch 46/70\n",
      "645/645 [==============================] - 22s 34ms/step - loss: 0.3089 - accuracy: 0.8864 - val_loss: 0.4339 - val_accuracy: 0.8433\n",
      "\n",
      "Epoch 00046: val_accuracy did not improve from 0.84777\n",
      "Epoch 47/70\n",
      "645/645 [==============================] - 21s 33ms/step - loss: 0.3060 - accuracy: 0.8881 - val_loss: 0.4352 - val_accuracy: 0.8419\n",
      "\n",
      "Epoch 00047: val_accuracy did not improve from 0.84777\n",
      "Epoch 48/70\n",
      "645/645 [==============================] - 22s 34ms/step - loss: 0.3090 - accuracy: 0.8885 - val_loss: 0.4329 - val_accuracy: 0.8443\n",
      "\n",
      "Epoch 00048: val_accuracy did not improve from 0.84777\n",
      "Epoch 49/70\n",
      "645/645 [==============================] - 24s 38ms/step - loss: 0.3050 - accuracy: 0.8880 - val_loss: 0.4357 - val_accuracy: 0.8431\n",
      "\n",
      "Epoch 00049: val_accuracy did not improve from 0.84777\n",
      "Epoch 50/70\n",
      "645/645 [==============================] - 24s 37ms/step - loss: 0.3058 - accuracy: 0.8891 - val_loss: 0.4355 - val_accuracy: 0.8395\n",
      "\n",
      "Epoch 00050: val_accuracy did not improve from 0.84777\n",
      "Epoch 51/70\n",
      "645/645 [==============================] - 22s 35ms/step - loss: 0.3031 - accuracy: 0.8888 - val_loss: 0.4342 - val_accuracy: 0.8451\n",
      "\n",
      "Epoch 00051: val_accuracy did not improve from 0.84777\n",
      "Epoch 52/70\n",
      "645/645 [==============================] - 23s 35ms/step - loss: 0.3051 - accuracy: 0.8909 - val_loss: 0.4346 - val_accuracy: 0.8453\n",
      "\n",
      "Epoch 00052: val_accuracy did not improve from 0.84777\n",
      "Epoch 53/70\n",
      "645/645 [==============================] - 23s 35ms/step - loss: 0.2984 - accuracy: 0.8928 - val_loss: 0.4404 - val_accuracy: 0.8412\n",
      "\n",
      "Epoch 00053: val_accuracy did not improve from 0.84777\n",
      "Epoch 54/70\n",
      "645/645 [==============================] - 23s 36ms/step - loss: 0.3025 - accuracy: 0.8901 - val_loss: 0.4353 - val_accuracy: 0.8435\n",
      "\n",
      "Epoch 00054: val_accuracy did not improve from 0.84777\n",
      "Epoch 55/70\n",
      "645/645 [==============================] - 23s 35ms/step - loss: 0.3006 - accuracy: 0.8908 - val_loss: 0.4345 - val_accuracy: 0.8403\n",
      "\n",
      "Epoch 00055: val_accuracy did not improve from 0.84777\n",
      "Epoch 56/70\n",
      "645/645 [==============================] - 22s 35ms/step - loss: 0.3012 - accuracy: 0.8913 - val_loss: 0.4363 - val_accuracy: 0.8440\n",
      "\n",
      "Epoch 00056: val_accuracy did not improve from 0.84777\n",
      "Epoch 57/70\n",
      "645/645 [==============================] - 22s 34ms/step - loss: 0.2967 - accuracy: 0.8931 - val_loss: 0.4399 - val_accuracy: 0.8422\n",
      "\n",
      "Epoch 00057: val_accuracy did not improve from 0.84777\n",
      "Epoch 58/70\n",
      "645/645 [==============================] - 23s 35ms/step - loss: 0.2995 - accuracy: 0.8918 - val_loss: 0.4399 - val_accuracy: 0.8437\n",
      "\n",
      "Epoch 00058: val_accuracy did not improve from 0.84777\n",
      "Epoch 59/70\n",
      "645/645 [==============================] - 23s 35ms/step - loss: 0.2953 - accuracy: 0.8944 - val_loss: 0.4439 - val_accuracy: 0.8412\n",
      "\n",
      "Epoch 00059: val_accuracy did not improve from 0.84777\n",
      "Epoch 60/70\n",
      "645/645 [==============================] - 23s 35ms/step - loss: 0.2953 - accuracy: 0.8939 - val_loss: 0.4430 - val_accuracy: 0.8412\n",
      "\n",
      "Epoch 00060: val_accuracy did not improve from 0.84777\n",
      "Epoch 61/70\n",
      "645/645 [==============================] - 23s 36ms/step - loss: 0.2974 - accuracy: 0.8910 - val_loss: 0.4443 - val_accuracy: 0.8411\n",
      "\n",
      "Epoch 00061: val_accuracy did not improve from 0.84777\n",
      "Epoch 62/70\n",
      "645/645 [==============================] - 22s 34ms/step - loss: 0.2946 - accuracy: 0.8933 - val_loss: 0.4415 - val_accuracy: 0.8421\n",
      "\n",
      "Epoch 00062: val_accuracy did not improve from 0.84777\n",
      "Epoch 63/70\n",
      "645/645 [==============================] - 21s 33ms/step - loss: 0.2904 - accuracy: 0.8939 - val_loss: 0.4465 - val_accuracy: 0.8412\n",
      "\n",
      "Epoch 00063: val_accuracy did not improve from 0.84777\n",
      "Epoch 64/70\n",
      "645/645 [==============================] - 26s 41ms/step - loss: 0.2923 - accuracy: 0.8925 - val_loss: 0.4396 - val_accuracy: 0.8435\n",
      "\n",
      "Epoch 00064: val_accuracy did not improve from 0.84777\n",
      "Epoch 65/70\n",
      "645/645 [==============================] - 40s 62ms/step - loss: 0.2907 - accuracy: 0.8957 - val_loss: 0.4511 - val_accuracy: 0.8440\n",
      "\n",
      "Epoch 00065: val_accuracy did not improve from 0.84777\n",
      "Epoch 66/70\n",
      "645/645 [==============================] - 24s 37ms/step - loss: 0.2907 - accuracy: 0.8950 - val_loss: 0.4483 - val_accuracy: 0.8435\n",
      "\n",
      "Epoch 00066: val_accuracy did not improve from 0.84777\n",
      "Epoch 67/70\n",
      "645/645 [==============================] - 21s 32ms/step - loss: 0.2882 - accuracy: 0.8972 - val_loss: 0.4441 - val_accuracy: 0.8412\n",
      "\n",
      "Epoch 00067: val_accuracy did not improve from 0.84777\n",
      "Epoch 68/70\n",
      "645/645 [==============================] - 21s 33ms/step - loss: 0.2871 - accuracy: 0.8975 - val_loss: 0.4551 - val_accuracy: 0.8403\n",
      "\n",
      "Epoch 00068: val_accuracy did not improve from 0.84777\n",
      "Epoch 69/70\n",
      "645/645 [==============================] - 21s 33ms/step - loss: 0.2901 - accuracy: 0.8963 - val_loss: 0.4495 - val_accuracy: 0.8360\n",
      "\n",
      "Epoch 00069: val_accuracy did not improve from 0.84777\n",
      "Epoch 70/70\n",
      "645/645 [==============================] - 21s 33ms/step - loss: 0.2862 - accuracy: 0.8962 - val_loss: 0.4424 - val_accuracy: 0.8437\n",
      "\n",
      "Epoch 00070: val_accuracy did not improve from 0.84777\n"
     ]
    }
   ],
   "source": [
    "model = Sequential()\n",
    "model.add(layers.Embedding(max_words, 40, input_length=max_len))\n",
    "model.add(layers.Bidirectional(layers.LSTM(20,dropout=0.6)))\n",
    "model.add(layers.Dense(3,activation='softmax'))\n",
    "model.compile(optimizer='rmsprop',loss='categorical_crossentropy', metrics=['accuracy'])\n",
    "model.summary()\n",
    "#Implementing model checkpoins to save the best metric and do not lose it on training.\n",
    "checkpoint2 = ModelCheckpoint(\"best_model2.hdf5\", monitor='val_accuracy', verbose=1,save_best_only=True, mode='auto', period=1,save_weights_only=False)\n",
    "history = model.fit(X_train, y_train, epochs=70,validation_data=(X_test, y_test),callbacks=[checkpoint2])"
   ]
  },
  {
   "cell_type": "code",
   "execution_count": 18,
   "id": "3eeeaa14",
   "metadata": {},
   "outputs": [],
   "source": [
    "best_model = keras.models.load_model(\"Sentiment_analysis_BiLSTM.hdf5\")"
   ]
  },
  {
   "cell_type": "code",
   "execution_count": 19,
   "id": "a64eec6b",
   "metadata": {},
   "outputs": [
    {
     "name": "stdout",
     "output_type": "stream",
     "text": [
      "215/215 - 3s - loss: 0.4256 - accuracy: 0.8478\n",
      "Model accuracy:  0.8477659821510315\n"
     ]
    }
   ],
   "source": [
    "test_loss, test_acc = best_model.evaluate(X_test, y_test, verbose=2)\n",
    "print('Model accuracy: ',test_acc)"
   ]
  },
  {
   "cell_type": "code",
   "execution_count": 20,
   "id": "2a8ad9f1",
   "metadata": {},
   "outputs": [],
   "source": [
    "predictions = best_model.predict(X_test)"
   ]
  },
  {
   "cell_type": "code",
   "execution_count": 21,
   "id": "6d9b7939",
   "metadata": {},
   "outputs": [],
   "source": [
    "from sklearn.metrics import confusion_matrix\n",
    "matrix = confusion_matrix(y_test.argmax(axis=1), np.around(predictions, decimals=0).argmax(axis=1))"
   ]
  },
  {
   "cell_type": "code",
   "execution_count": 22,
   "id": "57f7c835",
   "metadata": {},
   "outputs": [
    {
     "data": {
      "text/plain": [
       "<Axes: >"
      ]
     },
     "execution_count": 22,
     "metadata": {},
     "output_type": "execute_result"
    },
    {
     "data": {
      "image/png": "[encoded data removed]",
      "text/plain": [
       "<Figure size 1500x1500 with 2 Axes>"
      ]
     },
     "metadata": {},
     "output_type": "display_data"
    }
   ],
   "source": [
    "import seaborn as sns\n",
    "conf_matrix = pd.DataFrame(matrix, index = ['Neutral','Negative','Positive'],columns = ['Neutral','Negative','Positive'])\n",
    "#Normalizing\n",
    "conf_matrix = conf_matrix.astype('float') / conf_matrix.sum(axis=1)[:, np.newaxis]\n",
    "plt.figure(figsize = (15,15))\n",
    "sns.heatmap(conf_matrix, annot=True, annot_kws={\"size\": 15})"
   ]
  },
  {
   "cell_type": "code",
   "execution_count": 23,
   "id": "615c1d32",
   "metadata": {},
   "outputs": [],
   "source": [
    "sentiment = ['Neutral','Negative','Positive']"
   ]
  },
  {
   "cell_type": "code",
   "execution_count": 24,
   "id": "a7be6454",
   "metadata": {},
   "outputs": [
    {
     "data": {
      "text/plain": [
       "'Negative'"
      ]
     },
     "execution_count": 24,
     "metadata": {},
     "output_type": "execute_result"
    }
   ],
   "source": [
    "sequence = tokenizer.texts_to_sequences(['It was bad'])\n",
    "test = pad_sequences(sequence, maxlen=max_len)\n",
    "sentiment[np.around(best_model.predict(test), decimals=0).argmax(axis=1)[0]]"
   ]
  },
  {
   "cell_type": "code",
   "execution_count": 38,
   "id": "dc26b169",
   "metadata": {},
   "outputs": [
    {
     "data": {
      "text/plain": [
       "'Positive'"
      ]
     },
     "execution_count": 38,
     "metadata": {},
     "output_type": "execute_result"
    }
   ],
   "source": [
    "sequence = tokenizer.texts_to_sequences(['its nice'])\n",
    "test = pad_sequences(sequence, maxlen=max_len)\n",
    "sentiment[np.around(best_model.predict(test), decimals=0).argmax(axis=1)[0]]"
   ]
  }
 ],
 "metadata": {
  "kernelspec": {
   "display_name": "Python 3 (ipykernel)",
   "language": "python",
   "name": "python3"
  },
  "language_info": {
   "codemirror_mode": {
    "name": "ipython",
    "version": 3
   },
   "file_extension": ".py",
   "mimetype": "text/x-python",
   "name": "python",
   "nbconvert_exporter": "python",
   "pygments_lexer": "ipython3",
   "version": "3.9.16"
  }
 },
 "nbformat": 4,
 "nbformat_minor": 5
}
